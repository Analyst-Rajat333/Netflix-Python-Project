{
 "cells": [
  {
   "cell_type": "code",
   "execution_count": 1,
   "id": "6e1dee8f-5b39-457a-9824-ef6277c5cd0d",
   "metadata": {},
   "outputs": [],
   "source": [
    "import numpy as np\n",
    "import pandas as pd\n",
    "import matplotlib.pyplot as plt\n",
    "import seaborn as sns"
   ]
  },
  {
   "cell_type": "code",
   "execution_count": 2,
   "id": "daa8410c-3479-4176-860e-65933677227c",
   "metadata": {},
   "outputs": [],
   "source": [
    "df = pd.read_csv('mymoviedb.csv', lineterminator = '\\n')"
   ]
  },
  {
   "cell_type": "code",
   "execution_count": 3,
   "id": "69eaa28b-0ca3-4259-b056-674f6c8817ee",
   "metadata": {},
   "outputs": [
    {
     "data": {
      "text/html": [
       "<div>\n",
       "<style scoped>\n",
       "    .dataframe tbody tr th:only-of-type {\n",
       "        vertical-align: middle;\n",
       "    }\n",
       "\n",
       "    .dataframe tbody tr th {\n",
       "        vertical-align: top;\n",
       "    }\n",
       "\n",
       "    .dataframe thead th {\n",
       "        text-align: right;\n",
       "    }\n",
       "</style>\n",
       "<table border=\"1\" class=\"dataframe\">\n",
       "  <thead>\n",
       "    <tr style=\"text-align: right;\">\n",
       "      <th></th>\n",
       "      <th>Release_Date</th>\n",
       "      <th>Title</th>\n",
       "      <th>Overview</th>\n",
       "      <th>Popularity</th>\n",
       "      <th>Vote_Count</th>\n",
       "      <th>Vote_Average</th>\n",
       "      <th>Original_Language</th>\n",
       "      <th>Genre</th>\n",
       "      <th>Poster_Url</th>\n",
       "    </tr>\n",
       "  </thead>\n",
       "  <tbody>\n",
       "    <tr>\n",
       "      <th>0</th>\n",
       "      <td>2021-12-15</td>\n",
       "      <td>Spider-Man: No Way Home</td>\n",
       "      <td>Peter Parker is unmasked and no longer able to...</td>\n",
       "      <td>5083.954</td>\n",
       "      <td>8940</td>\n",
       "      <td>8.3</td>\n",
       "      <td>en</td>\n",
       "      <td>Action, Adventure, Science Fiction</td>\n",
       "      <td>https://image.tmdb.org/t/p/original/1g0dhYtq4i...</td>\n",
       "    </tr>\n",
       "    <tr>\n",
       "      <th>1</th>\n",
       "      <td>2022-03-01</td>\n",
       "      <td>The Batman</td>\n",
       "      <td>In his second year of fighting crime, Batman u...</td>\n",
       "      <td>3827.658</td>\n",
       "      <td>1151</td>\n",
       "      <td>8.1</td>\n",
       "      <td>en</td>\n",
       "      <td>Crime, Mystery, Thriller</td>\n",
       "      <td>https://image.tmdb.org/t/p/original/74xTEgt7R3...</td>\n",
       "    </tr>\n",
       "    <tr>\n",
       "      <th>2</th>\n",
       "      <td>2022-02-25</td>\n",
       "      <td>No Exit</td>\n",
       "      <td>Stranded at a rest stop in the mountains durin...</td>\n",
       "      <td>2618.087</td>\n",
       "      <td>122</td>\n",
       "      <td>6.3</td>\n",
       "      <td>en</td>\n",
       "      <td>Thriller</td>\n",
       "      <td>https://image.tmdb.org/t/p/original/vDHsLnOWKl...</td>\n",
       "    </tr>\n",
       "    <tr>\n",
       "      <th>3</th>\n",
       "      <td>2021-11-24</td>\n",
       "      <td>Encanto</td>\n",
       "      <td>The tale of an extraordinary family, the Madri...</td>\n",
       "      <td>2402.201</td>\n",
       "      <td>5076</td>\n",
       "      <td>7.7</td>\n",
       "      <td>en</td>\n",
       "      <td>Animation, Comedy, Family, Fantasy</td>\n",
       "      <td>https://image.tmdb.org/t/p/original/4j0PNHkMr5...</td>\n",
       "    </tr>\n",
       "    <tr>\n",
       "      <th>4</th>\n",
       "      <td>2021-12-22</td>\n",
       "      <td>The King's Man</td>\n",
       "      <td>As a collection of history's worst tyrants and...</td>\n",
       "      <td>1895.511</td>\n",
       "      <td>1793</td>\n",
       "      <td>7.0</td>\n",
       "      <td>en</td>\n",
       "      <td>Action, Adventure, Thriller, War</td>\n",
       "      <td>https://image.tmdb.org/t/p/original/aq4Pwv5Xeu...</td>\n",
       "    </tr>\n",
       "  </tbody>\n",
       "</table>\n",
       "</div>"
      ],
      "text/plain": [
       "  Release_Date                    Title  \\\n",
       "0   2021-12-15  Spider-Man: No Way Home   \n",
       "1   2022-03-01               The Batman   \n",
       "2   2022-02-25                  No Exit   \n",
       "3   2021-11-24                  Encanto   \n",
       "4   2021-12-22           The King's Man   \n",
       "\n",
       "                                            Overview  Popularity  Vote_Count  \\\n",
       "0  Peter Parker is unmasked and no longer able to...    5083.954        8940   \n",
       "1  In his second year of fighting crime, Batman u...    3827.658        1151   \n",
       "2  Stranded at a rest stop in the mountains durin...    2618.087         122   \n",
       "3  The tale of an extraordinary family, the Madri...    2402.201        5076   \n",
       "4  As a collection of history's worst tyrants and...    1895.511        1793   \n",
       "\n",
       "   Vote_Average Original_Language                               Genre  \\\n",
       "0           8.3                en  Action, Adventure, Science Fiction   \n",
       "1           8.1                en            Crime, Mystery, Thriller   \n",
       "2           6.3                en                            Thriller   \n",
       "3           7.7                en  Animation, Comedy, Family, Fantasy   \n",
       "4           7.0                en    Action, Adventure, Thriller, War   \n",
       "\n",
       "                                          Poster_Url  \n",
       "0  https://image.tmdb.org/t/p/original/1g0dhYtq4i...  \n",
       "1  https://image.tmdb.org/t/p/original/74xTEgt7R3...  \n",
       "2  https://image.tmdb.org/t/p/original/vDHsLnOWKl...  \n",
       "3  https://image.tmdb.org/t/p/original/4j0PNHkMr5...  \n",
       "4  https://image.tmdb.org/t/p/original/aq4Pwv5Xeu...  "
      ]
     },
     "execution_count": 3,
     "metadata": {},
     "output_type": "execute_result"
    }
   ],
   "source": [
    "df.head()"
   ]
  },
  {
   "cell_type": "code",
   "execution_count": 4,
   "id": "5418582e-38e5-40c1-a2e4-e814f9a09163",
   "metadata": {},
   "outputs": [
    {
     "name": "stdout",
     "output_type": "stream",
     "text": [
      "<class 'pandas.core.frame.DataFrame'>\n",
      "RangeIndex: 9827 entries, 0 to 9826\n",
      "Data columns (total 9 columns):\n",
      " #   Column             Non-Null Count  Dtype  \n",
      "---  ------             --------------  -----  \n",
      " 0   Release_Date       9827 non-null   object \n",
      " 1   Title              9827 non-null   object \n",
      " 2   Overview           9827 non-null   object \n",
      " 3   Popularity         9827 non-null   float64\n",
      " 4   Vote_Count         9827 non-null   int64  \n",
      " 5   Vote_Average       9827 non-null   float64\n",
      " 6   Original_Language  9827 non-null   object \n",
      " 7   Genre              9827 non-null   object \n",
      " 8   Poster_Url         9827 non-null   object \n",
      "dtypes: float64(2), int64(1), object(6)\n",
      "memory usage: 691.1+ KB\n"
     ]
    }
   ],
   "source": [
    "df.info()"
   ]
  },
  {
   "cell_type": "code",
   "execution_count": 5,
   "id": "b5dc4871-2e1e-4914-b972-d8b578366507",
   "metadata": {},
   "outputs": [
    {
     "data": {
      "text/html": [
       "<div>\n",
       "<style scoped>\n",
       "    .dataframe tbody tr th:only-of-type {\n",
       "        vertical-align: middle;\n",
       "    }\n",
       "\n",
       "    .dataframe tbody tr th {\n",
       "        vertical-align: top;\n",
       "    }\n",
       "\n",
       "    .dataframe thead th {\n",
       "        text-align: right;\n",
       "    }\n",
       "</style>\n",
       "<table border=\"1\" class=\"dataframe\">\n",
       "  <thead>\n",
       "    <tr style=\"text-align: right;\">\n",
       "      <th></th>\n",
       "      <th>Popularity</th>\n",
       "      <th>Vote_Count</th>\n",
       "      <th>Vote_Average</th>\n",
       "    </tr>\n",
       "  </thead>\n",
       "  <tbody>\n",
       "    <tr>\n",
       "      <th>count</th>\n",
       "      <td>9827.000000</td>\n",
       "      <td>9827.000000</td>\n",
       "      <td>9827.000000</td>\n",
       "    </tr>\n",
       "    <tr>\n",
       "      <th>mean</th>\n",
       "      <td>40.326088</td>\n",
       "      <td>1392.805536</td>\n",
       "      <td>6.439534</td>\n",
       "    </tr>\n",
       "    <tr>\n",
       "      <th>std</th>\n",
       "      <td>108.873998</td>\n",
       "      <td>2611.206907</td>\n",
       "      <td>1.129759</td>\n",
       "    </tr>\n",
       "    <tr>\n",
       "      <th>min</th>\n",
       "      <td>13.354000</td>\n",
       "      <td>0.000000</td>\n",
       "      <td>0.000000</td>\n",
       "    </tr>\n",
       "    <tr>\n",
       "      <th>25%</th>\n",
       "      <td>16.128500</td>\n",
       "      <td>146.000000</td>\n",
       "      <td>5.900000</td>\n",
       "    </tr>\n",
       "    <tr>\n",
       "      <th>50%</th>\n",
       "      <td>21.199000</td>\n",
       "      <td>444.000000</td>\n",
       "      <td>6.500000</td>\n",
       "    </tr>\n",
       "    <tr>\n",
       "      <th>75%</th>\n",
       "      <td>35.191500</td>\n",
       "      <td>1376.000000</td>\n",
       "      <td>7.100000</td>\n",
       "    </tr>\n",
       "    <tr>\n",
       "      <th>max</th>\n",
       "      <td>5083.954000</td>\n",
       "      <td>31077.000000</td>\n",
       "      <td>10.000000</td>\n",
       "    </tr>\n",
       "  </tbody>\n",
       "</table>\n",
       "</div>"
      ],
      "text/plain": [
       "        Popularity    Vote_Count  Vote_Average\n",
       "count  9827.000000   9827.000000   9827.000000\n",
       "mean     40.326088   1392.805536      6.439534\n",
       "std     108.873998   2611.206907      1.129759\n",
       "min      13.354000      0.000000      0.000000\n",
       "25%      16.128500    146.000000      5.900000\n",
       "50%      21.199000    444.000000      6.500000\n",
       "75%      35.191500   1376.000000      7.100000\n",
       "max    5083.954000  31077.000000     10.000000"
      ]
     },
     "execution_count": 5,
     "metadata": {},
     "output_type": "execute_result"
    }
   ],
   "source": [
    "df.describe()"
   ]
  },
  {
   "cell_type": "code",
   "execution_count": 6,
   "id": "a859b300-ff8a-403f-bb80-03eaf1d97e03",
   "metadata": {},
   "outputs": [
    {
     "data": {
      "text/html": [
       "<div>\n",
       "<style scoped>\n",
       "    .dataframe tbody tr th:only-of-type {\n",
       "        vertical-align: middle;\n",
       "    }\n",
       "\n",
       "    .dataframe tbody tr th {\n",
       "        vertical-align: top;\n",
       "    }\n",
       "\n",
       "    .dataframe thead th {\n",
       "        text-align: right;\n",
       "    }\n",
       "</style>\n",
       "<table border=\"1\" class=\"dataframe\">\n",
       "  <thead>\n",
       "    <tr style=\"text-align: right;\">\n",
       "      <th></th>\n",
       "      <th>Release_Date</th>\n",
       "      <th>Title</th>\n",
       "      <th>Overview</th>\n",
       "      <th>Popularity</th>\n",
       "      <th>Vote_Count</th>\n",
       "      <th>Vote_Average</th>\n",
       "      <th>Original_Language</th>\n",
       "      <th>Genre</th>\n",
       "      <th>Poster_Url</th>\n",
       "    </tr>\n",
       "  </thead>\n",
       "  <tbody>\n",
       "    <tr>\n",
       "      <th>0</th>\n",
       "      <td>2021-12-15</td>\n",
       "      <td>Spider-Man: No Way Home</td>\n",
       "      <td>Peter Parker is unmasked and no longer able to...</td>\n",
       "      <td>5083.954</td>\n",
       "      <td>8940</td>\n",
       "      <td>8.3</td>\n",
       "      <td>en</td>\n",
       "      <td>Action, Adventure, Science Fiction</td>\n",
       "      <td>https://image.tmdb.org/t/p/original/1g0dhYtq4i...</td>\n",
       "    </tr>\n",
       "    <tr>\n",
       "      <th>1</th>\n",
       "      <td>2022-03-01</td>\n",
       "      <td>The Batman</td>\n",
       "      <td>In his second year of fighting crime, Batman u...</td>\n",
       "      <td>3827.658</td>\n",
       "      <td>1151</td>\n",
       "      <td>8.1</td>\n",
       "      <td>en</td>\n",
       "      <td>Crime, Mystery, Thriller</td>\n",
       "      <td>https://image.tmdb.org/t/p/original/74xTEgt7R3...</td>\n",
       "    </tr>\n",
       "    <tr>\n",
       "      <th>2</th>\n",
       "      <td>2022-02-25</td>\n",
       "      <td>No Exit</td>\n",
       "      <td>Stranded at a rest stop in the mountains durin...</td>\n",
       "      <td>2618.087</td>\n",
       "      <td>122</td>\n",
       "      <td>6.3</td>\n",
       "      <td>en</td>\n",
       "      <td>Thriller</td>\n",
       "      <td>https://image.tmdb.org/t/p/original/vDHsLnOWKl...</td>\n",
       "    </tr>\n",
       "    <tr>\n",
       "      <th>3</th>\n",
       "      <td>2021-11-24</td>\n",
       "      <td>Encanto</td>\n",
       "      <td>The tale of an extraordinary family, the Madri...</td>\n",
       "      <td>2402.201</td>\n",
       "      <td>5076</td>\n",
       "      <td>7.7</td>\n",
       "      <td>en</td>\n",
       "      <td>Animation, Comedy, Family, Fantasy</td>\n",
       "      <td>https://image.tmdb.org/t/p/original/4j0PNHkMr5...</td>\n",
       "    </tr>\n",
       "    <tr>\n",
       "      <th>4</th>\n",
       "      <td>2021-12-22</td>\n",
       "      <td>The King's Man</td>\n",
       "      <td>As a collection of history's worst tyrants and...</td>\n",
       "      <td>1895.511</td>\n",
       "      <td>1793</td>\n",
       "      <td>7.0</td>\n",
       "      <td>en</td>\n",
       "      <td>Action, Adventure, Thriller, War</td>\n",
       "      <td>https://image.tmdb.org/t/p/original/aq4Pwv5Xeu...</td>\n",
       "    </tr>\n",
       "  </tbody>\n",
       "</table>\n",
       "</div>"
      ],
      "text/plain": [
       "  Release_Date                    Title  \\\n",
       "0   2021-12-15  Spider-Man: No Way Home   \n",
       "1   2022-03-01               The Batman   \n",
       "2   2022-02-25                  No Exit   \n",
       "3   2021-11-24                  Encanto   \n",
       "4   2021-12-22           The King's Man   \n",
       "\n",
       "                                            Overview  Popularity  Vote_Count  \\\n",
       "0  Peter Parker is unmasked and no longer able to...    5083.954        8940   \n",
       "1  In his second year of fighting crime, Batman u...    3827.658        1151   \n",
       "2  Stranded at a rest stop in the mountains durin...    2618.087         122   \n",
       "3  The tale of an extraordinary family, the Madri...    2402.201        5076   \n",
       "4  As a collection of history's worst tyrants and...    1895.511        1793   \n",
       "\n",
       "   Vote_Average Original_Language                               Genre  \\\n",
       "0           8.3                en  Action, Adventure, Science Fiction   \n",
       "1           8.1                en            Crime, Mystery, Thriller   \n",
       "2           6.3                en                            Thriller   \n",
       "3           7.7                en  Animation, Comedy, Family, Fantasy   \n",
       "4           7.0                en    Action, Adventure, Thriller, War   \n",
       "\n",
       "                                          Poster_Url  \n",
       "0  https://image.tmdb.org/t/p/original/1g0dhYtq4i...  \n",
       "1  https://image.tmdb.org/t/p/original/74xTEgt7R3...  \n",
       "2  https://image.tmdb.org/t/p/original/vDHsLnOWKl...  \n",
       "3  https://image.tmdb.org/t/p/original/4j0PNHkMr5...  \n",
       "4  https://image.tmdb.org/t/p/original/aq4Pwv5Xeu...  "
      ]
     },
     "execution_count": 6,
     "metadata": {},
     "output_type": "execute_result"
    }
   ],
   "source": [
    "df.head()"
   ]
  },
  {
   "cell_type": "code",
   "execution_count": 7,
   "id": "2f4bf0ed-67cb-43d9-873c-d88842dda929",
   "metadata": {},
   "outputs": [],
   "source": [
    "#Question1. What is the most frequent genre of movies released on Netflix?"
   ]
  },
  {
   "cell_type": "code",
   "execution_count": 12,
   "id": "08b9cbfe-276a-4866-b898-2ebb7bc9baf9",
   "metadata": {},
   "outputs": [
    {
     "name": "stdout",
     "output_type": "stream",
     "text": [
      "🎬 The most frequent genre on Netflix is **'Drama'** with 3744 occurrences.\n"
     ]
    }
   ],
   "source": [
    "# Extracting and preprocess 'Genre' column\n",
    "genre_series = df['Genre'].dropna().str.split(',').explode().str.strip()\n",
    "genre_counts = genre_series.value_counts()\n",
    "\n",
    "# Displaying the most frequent genre(s)\n",
    "most_frequent_genre = genre_counts.idxmax()\n",
    "max_count = genre_counts.max()\n",
    "print(f\"🎬 The most frequent genre on Netflix is **'{most_frequent_genre}'** with {max_count} occurrences.\")"
   ]
  },
  {
   "cell_type": "code",
   "execution_count": 16,
   "id": "cea4b15f-6ce7-4154-8191-bdc56975f356",
   "metadata": {},
   "outputs": [
    {
     "data": {
      "image/png": "[encoded data removed]",
      "text/plain": [
       "<Figure size 1000x600 with 1 Axes>"
      ]
     },
     "metadata": {},
     "output_type": "display_data"
    }
   ],
   "source": [
    "# Creating a Visualisation:\n",
    "\n",
    "# Setting plot style and create visualization\n",
    "sns.set_style('white')  # No gridlines\n",
    "\n",
    "plt.figure(figsize=(10, 6))\n",
    "sns.barplot(\n",
    "    x=genre_counts.head(10).values,\n",
    "    y=genre_counts.head(10).index,\n",
    "    hue=genre_counts.head(10).index,   # To avoid warning\n",
    "    palette='mako',\n",
    "    dodge=False,\n",
    "    legend=False\n",
    ")\n",
    "\n",
    "# Adding data labels to bars\n",
    "for index, value in enumerate(genre_counts.head(10).values):\n",
    "    plt.text(value, index, f'{value}', va='center', ha='left', fontsize=9, fontweight='bold')\n",
    "\n",
    "# Final plot formatting\n",
    "plt.title('Top 10 Most Frequent Movie Genres on Netflix', fontsize=14, fontweight='bold')\n",
    "plt.xlabel('')\n",
    "plt.ylabel('')\n",
    "plt.grid(False)  # Remove gridlines\n",
    "plt.gca().axes.xaxis.set_visible(False)  # Hide x-axis values\n",
    "\n",
    "plt.tight_layout()\n",
    "plt.savefig('top_genres_netflix.png', dpi=300)  # Saving the figure\n",
    "plt.show() #Showing the plot"
   ]
  },
  {
   "cell_type": "code",
   "execution_count": 17,
   "id": "9933887b-f8fc-4765-80f0-33a2bc6babd5",
   "metadata": {},
   "outputs": [],
   "source": [
    "#Question2. Which has highest votes in vote avg column?"
   ]
  },
  {
   "cell_type": "code",
   "execution_count": 19,
   "id": "8beea52b-7d6c-4051-b72a-db17592fe079",
   "metadata": {},
   "outputs": [
    {
     "data": {
      "text/plain": [
       "Release_Date                                                2020-04-09\n",
       "Title                                       Kung Fu Master Huo Yuanjia\n",
       "Overview             The young and vigorous Huo Yuanjia was only fo...\n",
       "Popularity                                                      13.745\n",
       "Vote_Count                                                           1\n",
       "Vote_Average                                                      10.0\n",
       "Original_Language                                                   zh\n",
       "Genre                                                    Action, Drama\n",
       "Poster_Url           https://image.tmdb.org/t/p/original/boXAHksMko...\n",
       "Name: 9391, dtype: object"
      ]
     },
     "execution_count": 19,
     "metadata": {},
     "output_type": "execute_result"
    }
   ],
   "source": [
    "#Finding out which movie hass got the highest votes in vote avg column:\n",
    "\n",
    "# Droping null values in relevant columns\n",
    "df_cleaned = df.dropna(subset=['Vote_Average', 'Title'])\n",
    "\n",
    "# Sorting by Vote_Average in descending order to get the top result\n",
    "top_rated_movie = df_cleaned.sort_values(by='Vote_Average', ascending=False).iloc[0]\n",
    "\n",
    "# Displaying the result\n",
    "top_rated_movie"
   ]
  },
  {
   "cell_type": "code",
   "execution_count": 25,
   "id": "28884f82-a517-4090-bc07-ae1eafdc8536",
   "metadata": {},
   "outputs": [
    {
     "data": {
      "text/html": [
       "<div>\n",
       "<style scoped>\n",
       "    .dataframe tbody tr th:only-of-type {\n",
       "        vertical-align: middle;\n",
       "    }\n",
       "\n",
       "    .dataframe tbody tr th {\n",
       "        vertical-align: top;\n",
       "    }\n",
       "\n",
       "    .dataframe thead th {\n",
       "        text-align: right;\n",
       "    }\n",
       "</style>\n",
       "<table border=\"1\" class=\"dataframe\">\n",
       "  <thead>\n",
       "    <tr style=\"text-align: right;\">\n",
       "      <th></th>\n",
       "      <th>Title</th>\n",
       "      <th>Vote_Average</th>\n",
       "    </tr>\n",
       "  </thead>\n",
       "  <tbody>\n",
       "    <tr>\n",
       "      <th>9391</th>\n",
       "      <td>Kung Fu Master Huo Yuanjia</td>\n",
       "      <td>10.0</td>\n",
       "    </tr>\n",
       "    <tr>\n",
       "      <th>7339</th>\n",
       "      <td>Franco Escamilla: Por La Anécdota</td>\n",
       "      <td>9.2</td>\n",
       "    </tr>\n",
       "    <tr>\n",
       "      <th>667</th>\n",
       "      <td>Demon Slayer: Kimetsu no Yaiba Sibling's Bond</td>\n",
       "      <td>9.1</td>\n",
       "    </tr>\n",
       "    <tr>\n",
       "      <th>2325</th>\n",
       "      <td>Impossible Things</td>\n",
       "      <td>9.1</td>\n",
       "    </tr>\n",
       "    <tr>\n",
       "      <th>7014</th>\n",
       "      <td>Sex School: Dorms of Desire</td>\n",
       "      <td>9.0</td>\n",
       "    </tr>\n",
       "    <tr>\n",
       "      <th>7401</th>\n",
       "      <td>My Sex Doll</td>\n",
       "      <td>9.0</td>\n",
       "    </tr>\n",
       "    <tr>\n",
       "      <th>6728</th>\n",
       "      <td>Mission «Sky»</td>\n",
       "      <td>9.0</td>\n",
       "    </tr>\n",
       "    <tr>\n",
       "      <th>2391</th>\n",
       "      <td>The Three Deaths of Marisela Escobedo</td>\n",
       "      <td>9.0</td>\n",
       "    </tr>\n",
       "    <tr>\n",
       "      <th>8647</th>\n",
       "      <td>Burn the Stage: The Movie</td>\n",
       "      <td>8.9</td>\n",
       "    </tr>\n",
       "    <tr>\n",
       "      <th>5069</th>\n",
       "      <td>Ni tuyo, Ni mía</td>\n",
       "      <td>8.9</td>\n",
       "    </tr>\n",
       "  </tbody>\n",
       "</table>\n",
       "</div>"
      ],
      "text/plain": [
       "                                              Title  Vote_Average\n",
       "9391                     Kung Fu Master Huo Yuanjia          10.0\n",
       "7339              Franco Escamilla: Por La Anécdota           9.2\n",
       "667   Demon Slayer: Kimetsu no Yaiba Sibling's Bond           9.1\n",
       "2325                              Impossible Things           9.1\n",
       "7014                    Sex School: Dorms of Desire           9.0\n",
       "7401                                    My Sex Doll           9.0\n",
       "6728                                  Mission «Sky»           9.0\n",
       "2391          The Three Deaths of Marisela Escobedo           9.0\n",
       "8647                      Burn the Stage: The Movie           8.9\n",
       "5069                                Ni tuyo, Ni mía           8.9"
      ]
     },
     "execution_count": 25,
     "metadata": {},
     "output_type": "execute_result"
    }
   ],
   "source": [
    "#Finding out top 10 movies with highest votes in vote avg column:\n",
    "\n",
    "# Droping nulls from relevant columns\n",
    "df_cleaned = df.dropna(subset=['Vote_Average', 'Title'])\n",
    "\n",
    "# Sorting by Vote_Average descending and take top 10\n",
    "top_10_votes = df_cleaned.sort_values(by='Vote_Average', ascending=False).head(10)\n",
    "\n",
    "# Displaying the top 10 movies data\n",
    "top_10_votes[['Title', 'Vote_Average']]"
   ]
  },
  {
   "cell_type": "code",
   "execution_count": 33,
   "id": "0c1f5cfc-b3be-4fb0-a8ec-241a12d31ee7",
   "metadata": {},
   "outputs": [
    {
     "data": {
      "image/png": "[encoded data removed]",
      "text/plain": [
       "<Figure size 1200x600 with 1 Axes>"
      ]
     },
     "metadata": {},
     "output_type": "display_data"
    }
   ],
   "source": [
    "#Visualising the top 10 movies with highest votes in vote avg column:\n",
    "\n",
    "# Plot\n",
    "plt.figure(figsize=(12, 6))\n",
    "sns.barplot(\n",
    "    y='Title',\n",
    "    x='Vote_Average',\n",
    "    data=top_10_votes,\n",
    "    palette='magma',\n",
    "    hue='Title',\n",
    "    dodge=False,\n",
    "    legend=False\n",
    ")\n",
    "\n",
    "# Adding data labels\n",
    "for index, value in enumerate(top_10_votes['Vote_Average']):\n",
    "    plt.text(value + 0.1, index, f'{value:.1f}', va='center', fontweight='bold', fontsize=9)\n",
    "\n",
    "# Formatting\n",
    "plt.xlabel('')\n",
    "plt.ylabel('')\n",
    "plt.xticks([])        # Hide x-axis labels\n",
    "plt.grid(False)       # Remove gridlines\n",
    "plt.tight_layout()\n",
    "plt.savefig('top_10_vote_avg_movies.png', dpi=300) #Saving the figure\n",
    "plt.show() #Showing the plot"
   ]
  },
  {
   "cell_type": "code",
   "execution_count": 34,
   "id": "65cecdcb-0fc5-4740-9c95-9727ec3a6eca",
   "metadata": {},
   "outputs": [],
   "source": [
    "#Question3. What movie got the highest popularity? what's its genre?"
   ]
  },
  {
   "cell_type": "code",
   "execution_count": 35,
   "id": "8d94f5df-a233-4cd9-9f8c-c60b24141a5d",
   "metadata": {},
   "outputs": [
    {
     "name": "stdout",
     "output_type": "stream",
     "text": [
      "🎬 Most Popular Movie on Netflix:\n",
      "Title       : Spider-Man: No Way Home\n",
      "Genre       : Action, Adventure, Science Fiction\n",
      "Popularity  : 5083.954\n"
     ]
    }
   ],
   "source": [
    "# Getting the movie with the highest popularity\n",
    "most_popular_movie = df.loc[df['Popularity'].idxmax()]\n",
    "\n",
    "# Displaying the movie title, genre, and it's popularity\n",
    "print(\"🎬 Most Popular Movie on Netflix:\")\n",
    "print(f\"Title       : {most_popular_movie['Title']}\")\n",
    "print(f\"Genre       : {most_popular_movie['Genre']}\")\n",
    "print(f\"Popularity  : {most_popular_movie['Popularity']}\")"
   ]
  },
  {
   "cell_type": "code",
   "execution_count": 36,
   "id": "99724797-f796-4a64-b623-37386cca0707",
   "metadata": {},
   "outputs": [],
   "source": [
    "#Now finding out the top 5 movies with the highest popularity:"
   ]
  },
  {
   "cell_type": "code",
   "execution_count": 37,
   "id": "4fcc9b7a-0e83-4bab-9e3e-57f72e3f139c",
   "metadata": {},
   "outputs": [
    {
     "name": "stdout",
     "output_type": "stream",
     "text": [
      "🎬 Top 5 Most Popular Movies on Netflix:\n",
      "                     Title                               Genre  Popularity\n",
      "0  Spider-Man: No Way Home  Action, Adventure, Science Fiction    5083.954\n",
      "1               The Batman            Crime, Mystery, Thriller    3827.658\n",
      "2                  No Exit                            Thriller    2618.087\n",
      "3                  Encanto  Animation, Comedy, Family, Fantasy    2402.201\n",
      "4           The King's Man    Action, Adventure, Thriller, War    1895.511\n"
     ]
    }
   ],
   "source": [
    "# Sorting the DataFrame by 'Popularity' in descending order and getting the top 5 movies\n",
    "top5_popular_movies = df.sort_values(by='Popularity', ascending=False).head(5)\n",
    "\n",
    "# Displaying the top 5 movies with their title, genre, and their popularity\n",
    "print(\"🎬 Top 5 Most Popular Movies on Netflix:\")\n",
    "print(top5_popular_movies[['Title', 'Genre', 'Popularity']])"
   ]
  },
  {
   "cell_type": "code",
   "execution_count": 45,
   "id": "39791497-e3e3-4c35-9a6c-6d22f41492f4",
   "metadata": {},
   "outputs": [
    {
     "data": {
      "image/png": "[encoded data removed]",
      "text/plain": [
       "<Figure size 1500x600 with 1 Axes>"
      ]
     },
     "metadata": {},
     "output_type": "display_data"
    }
   ],
   "source": [
    "# Visualising the top 5 movies with the highest popularity:\n",
    "\n",
    "# Setting style and figure size\n",
    "plt.figure(figsize=(15, 6))\n",
    "sns.set_style(\"white\")  # Removes grid by default\n",
    "\n",
    "# Barplot using genre as hue\n",
    "sns.barplot(\n",
    "    x='Popularity',\n",
    "    y='Title',\n",
    "    data=top5_popular_movies,\n",
    "    hue='Title',            # Assign hue to suppress warning\n",
    "    palette='mako',\n",
    "    dodge=False,\n",
    "    legend=False            # Hide legend\n",
    ")\n",
    "\n",
    "# Adding data labels to each bar\n",
    "for index, value in enumerate(top5_popular_movies['Popularity']):\n",
    "    plt.text(value + 0.5, index, f'{value:.1f}', va='center', fontweight='bold')\n",
    "\n",
    "# Formatting\n",
    "plt.title('Top 5 Most Popular Movies on Netflix', fontsize=12, fontweight='bold')\n",
    "plt.xlabel('Popularity Score')\n",
    "plt.ylabel('Movie Title')\n",
    "plt.xticks([])                 # Hide x-axis values\n",
    "plt.grid(False)                # No grid\n",
    "plt.tight_layout()\n",
    "plt.savefig('top5_popular_movies_netflix.png', dpi=300) # Saving the plot\n",
    "plt.show() # Showing the plot"
   ]
  },
  {
   "cell_type": "code",
   "execution_count": 46,
   "id": "6209934a-d8e3-474d-98cc-aaef6a13eb79",
   "metadata": {},
   "outputs": [],
   "source": [
    "#Question4: What movie got the lowest popularity? what's its genre?"
   ]
  },
  {
   "cell_type": "code",
   "execution_count": 47,
   "id": "b0425ee6-678d-41b3-bcb4-1007b458354b",
   "metadata": {},
   "outputs": [
    {
     "name": "stdout",
     "output_type": "stream",
     "text": [
      "🎬 Movie with the Lowest Popularity:\n",
      "\n",
      "Title       : The United States vs. Billie Holiday\n",
      "Popularity  : 13.354\n",
      "Genre       : Music, Drama, History\n"
     ]
    }
   ],
   "source": [
    "#Finding the movie that has got the lowest popularity and it's genre:\n",
    "\n",
    "# Droping rows with missing popularity values (if any)\n",
    "df_cleaned = df.dropna(subset=['Popularity'])\n",
    "\n",
    "# Finding the movie with the lowest popularity\n",
    "lowest_popularity_movie = df_cleaned.loc[df_cleaned['Popularity'].idxmin()]\n",
    "\n",
    "# Displaying the result\n",
    "print(\"🎬 Movie with the Lowest Popularity:\\n\")\n",
    "print(f\"Title       : {lowest_popularity_movie['Title']}\")\n",
    "print(f\"Popularity  : {lowest_popularity_movie['Popularity']}\")\n",
    "print(f\"Genre       : {lowest_popularity_movie['Genre']}\")"
   ]
  },
  {
   "cell_type": "code",
   "execution_count": 48,
   "id": "dcfd8446-3096-4451-badf-3602f00b3c18",
   "metadata": {},
   "outputs": [],
   "source": [
    "#Now finding out the top5 movies with lowest popularity:"
   ]
  },
  {
   "cell_type": "code",
   "execution_count": 49,
   "id": "a0283672-c1e5-41c8-b952-9d404516fa65",
   "metadata": {},
   "outputs": [
    {
     "name": "stdout",
     "output_type": "stream",
     "text": [
      "🎬 Top 5 Movies with the Lowest Popularity:\n",
      "\n",
      "                                     Title  Popularity  \\\n",
      "9825  The United States vs. Billie Holiday      13.354   \n",
      "9826                               Threads      13.354   \n",
      "9824                          The Offering      13.355   \n",
      "9823                      Violent Delights      13.356   \n",
      "9821                     The Little Prince      13.357   \n",
      "\n",
      "                                        Genre  \n",
      "9825                    Music, Drama, History  \n",
      "9826              War, Drama, Science Fiction  \n",
      "9824                Mystery, Thriller, Horror  \n",
      "9823                                   Horror  \n",
      "9821  Science Fiction, Fantasy, Family, Music  \n"
     ]
    }
   ],
   "source": [
    "#Finding out the top5 movies with lowest popularity:\n",
    "\n",
    "# Dropping rows with missing popularity values\n",
    "df_cleaned = df.dropna(subset=['Popularity'])\n",
    "\n",
    "# Get top 5 movies with the lowest popularity\n",
    "lowest_popularity_movies = df_cleaned.nsmallest(5, 'Popularity')[['Title', 'Popularity', 'Genre']]\n",
    "\n",
    "# Displaying the data\n",
    "print(\"🎬 Top 5 Movies with the Lowest Popularity:\\n\")\n",
    "print(lowest_popularity_movies)"
   ]
  },
  {
   "cell_type": "code",
   "execution_count": null,
   "id": "b15c5bff-d27b-461c-8138-5de50fcdec4f",
   "metadata": {},
   "outputs": [],
   "source": [
    "#Question5. Which year has the most filmmed movies?"
   ]
  },
  {
   "cell_type": "code",
   "execution_count": 52,
   "id": "585547ad-3293-4d84-a4e1-35c97717a11a",
   "metadata": {},
   "outputs": [
    {
     "name": "stdout",
     "output_type": "stream",
     "text": [
      "📅 The year with the most filmed movies is **2021** with **714** movies.\n"
     ]
    }
   ],
   "source": [
    "#Finding out the most filmed movies in the year\n",
    "\n",
    "# Converting 'Release_Date' to datetime format\n",
    "df['Release_Date'] = pd.to_datetime(df['Release_Date'], errors='coerce')\n",
    "\n",
    "# Extracting the year\n",
    "df['Year'] = df['Release_Date'].dt.year\n",
    "\n",
    "# Droping rows with missing year\n",
    "df_cleaned = df.dropna(subset=['Year'])\n",
    "\n",
    "# Counting number of movies per year\n",
    "movies_per_year = df_cleaned['Year'].value_counts().sort_index()\n",
    "\n",
    "# Finding the year with the most movies\n",
    "most_film_year = movies_per_year.idxmax()\n",
    "most_film_count = movies_per_year.max()\n",
    "\n",
    "# Displaying result\n",
    "print(f\"📅 The year with the most filmed movies is **{int(most_film_year)}** with **{most_film_count}** movies.\")"
   ]
  },
  {
   "cell_type": "code",
   "execution_count": 55,
   "id": "62801a98-3932-49e2-8b4c-f285f0706179",
   "metadata": {},
   "outputs": [
    {
     "name": "stdout",
     "output_type": "stream",
     "text": [
      "Top 5 years with the most filmed movies:\n",
      "Year\n",
      "2021    714\n",
      "2018    530\n",
      "2017    510\n",
      "2019    500\n",
      "2016    470\n",
      "Name: count, dtype: int64\n"
     ]
    }
   ],
   "source": [
    "#Finding out the top5 years with the most filmmed movies:\n",
    "\n",
    "# Ensuring Release_Date is datetime\n",
    "df['Release_Date'] = pd.to_datetime(df['Release_Date'], errors='coerce')\n",
    "\n",
    "# Extracting the year\n",
    "df['Year'] = df['Release_Date'].dt.year\n",
    "\n",
    "# Droping rows where Year is NaN\n",
    "df_cleaned = df.dropna(subset=['Year'])\n",
    "\n",
    "# Counting movies per year and sort descending\n",
    "movies_per_year = df_cleaned['Year'].value_counts().sort_values(ascending=False)\n",
    "\n",
    "# Getting top 5 years with most movies\n",
    "top5_years = movies_per_year.head(5)\n",
    "\n",
    "# Showing the data\n",
    "print(\"Top 5 years with the most filmed movies:\")\n",
    "print(top5_years)"
   ]
  },
  {
   "cell_type": "code",
   "execution_count": 58,
   "id": "5bc34265-1a58-47ee-ad8c-352132ee3847",
   "metadata": {},
   "outputs": [
    {
     "data": {
      "image/png": "[encoded data removed]",
      "text/plain": [
       "<Figure size 1000x600 with 1 Axes>"
      ]
     },
     "metadata": {},
     "output_type": "display_data"
    }
   ],
   "source": [
    "#Visualising the top5 years with most filmmed movies:\n",
    "\n",
    "# Converting to DataFrame for visualization\n",
    "top5_years_df = top5_years.reset_index()\n",
    "top5_years_df.columns = ['Year', 'Movie Count']\n",
    "\n",
    "# Visualization of the data \n",
    "plt.figure(figsize=(10, 6))\n",
    "bars = sns.barplot(\n",
    "    x='Year',\n",
    "    y='Movie Count',\n",
    "    data=top5_years_df,\n",
    "    palette='mako',\n",
    "    hue='Year',\n",
    "    dodge=False,\n",
    "    legend=False\n",
    ")\n",
    "\n",
    "# Removing y-axis ticks and labels\n",
    "bars.yaxis.set_visible(False)\n",
    "\n",
    "# Adding data labels on top of bars\n",
    "for bar in bars.patches:\n",
    "    height = bar.get_height()\n",
    "    bars.text(\n",
    "        bar.get_x() + bar.get_width() / 2,\n",
    "        height + 1,  # Slightly above the bar\n",
    "        f'{int(height)}',\n",
    "        ha='center',\n",
    "        va='bottom',\n",
    "        fontsize=10,\n",
    "        fontweight='bold'\n",
    "    )\n",
    "\n",
    "plt.title('Top 5 Years with the Most Filmed Movies', fontsize=14, weight='bold')\n",
    "plt.xlabel('Year')\n",
    "plt.tight_layout()\n",
    "plt.savefig('top5_years_most_filmed_movies.png', dpi=300) #Saving the figure\n",
    "plt.show() #Showing the result"
   ]
  },
  {
   "cell_type": "code",
   "execution_count": null,
   "id": "0bae096e-5360-4998-bd4e-0aca4a700f94",
   "metadata": {},
   "outputs": [],
   "source": []
  }
 ],
 "metadata": {
  "kernelspec": {
   "display_name": "Python 3 (ipykernel)",
   "language": "python",
   "name": "python3"
  },
  "language_info": {
   "codemirror_mode": {
    "name": "ipython",
    "version": 3
   },
   "file_extension": ".py",
   "mimetype": "text/x-python",
   "name": "python",
   "nbconvert_exporter": "python",
   "pygments_lexer": "ipython3",
   "version": "3.13.3"
  }
 },
 "nbformat": 4,
 "nbformat_minor": 5
}
